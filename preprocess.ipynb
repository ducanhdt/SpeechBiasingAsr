{
 "cells": [
  {
   "cell_type": "code",
   "execution_count": 1,
   "metadata": {},
   "outputs": [],
   "source": [
    "import pandas as pd "
   ]
  },
  {
   "cell_type": "code",
   "execution_count": 2,
   "metadata": {},
   "outputs": [],
   "source": [
    "data1 = pd.read_csv(\"/home4/tuannd/address_handler/data/address_new_notation.csv\")\n",
    "data2 = pd.read_csv(\"/home4/tuannd/address_handler/data/address_old_notation.csv\")"
   ]
  },
  {
   "cell_type": "code",
   "execution_count": 3,
   "metadata": {},
   "outputs": [
    {
     "data": {
      "text/html": [
       "<div>\n",
       "<style scoped>\n",
       "    .dataframe tbody tr th:only-of-type {\n",
       "        vertical-align: middle;\n",
       "    }\n",
       "\n",
       "    .dataframe tbody tr th {\n",
       "        vertical-align: top;\n",
       "    }\n",
       "\n",
       "    .dataframe thead th {\n",
       "        text-align: right;\n",
       "    }\n",
       "</style>\n",
       "<table border=\"1\" class=\"dataframe\">\n",
       "  <thead>\n",
       "    <tr style=\"text-align: right;\">\n",
       "      <th></th>\n",
       "      <th>path</th>\n",
       "      <th>transcript</th>\n",
       "    </tr>\n",
       "  </thead>\n",
       "  <tbody>\n",
       "    <tr>\n",
       "      <th>0</th>\n",
       "      <td>/home4/tuannd/ASR_team/data_ASR/dcm/63f2f8911f...</td>\n",
       "      <td>[Lâm Đồng](CITY)</td>\n",
       "    </tr>\n",
       "    <tr>\n",
       "      <th>1</th>\n",
       "      <td>/home4/tuannd/ASR_team/data_ASR/dcm/63f2f8911f...</td>\n",
       "      <td>[Bến Cát](WARD) [Bình Dương](CITY)</td>\n",
       "    </tr>\n",
       "    <tr>\n",
       "      <th>2</th>\n",
       "      <td>/home4/tuannd/ASR_team/data_ASR/dcm/63f2f8911f...</td>\n",
       "      <td>[tỉnh [Hải Phòng](CITY) quận [Hải An] (DIS)] (...</td>\n",
       "    </tr>\n",
       "    <tr>\n",
       "      <th>3</th>\n",
       "      <td>/home4/tuannd/ASR_team/data_ASR/dcm/63f2f8911f...</td>\n",
       "      <td>[Tỉnh [Tiền Giang](CITY)](ADD)</td>\n",
       "    </tr>\n",
       "    <tr>\n",
       "      <th>4</th>\n",
       "      <td>/home4/tuannd/ASR_team/data_ASR/dcm/63f2f8911f...</td>\n",
       "      <td>à ở [Thuận An](DIS) [Bình Dương](CITY) (ADD)</td>\n",
       "    </tr>\n",
       "  </tbody>\n",
       "</table>\n",
       "</div>"
      ],
      "text/plain": [
       "                                                path  \\\n",
       "0  /home4/tuannd/ASR_team/data_ASR/dcm/63f2f8911f...   \n",
       "1  /home4/tuannd/ASR_team/data_ASR/dcm/63f2f8911f...   \n",
       "2  /home4/tuannd/ASR_team/data_ASR/dcm/63f2f8911f...   \n",
       "3  /home4/tuannd/ASR_team/data_ASR/dcm/63f2f8911f...   \n",
       "4  /home4/tuannd/ASR_team/data_ASR/dcm/63f2f8911f...   \n",
       "\n",
       "                                          transcript  \n",
       "0                                   [Lâm Đồng](CITY)  \n",
       "1                 [Bến Cát](WARD) [Bình Dương](CITY)  \n",
       "2  [tỉnh [Hải Phòng](CITY) quận [Hải An] (DIS)] (...  \n",
       "3                     [Tỉnh [Tiền Giang](CITY)](ADD)  \n",
       "4       à ở [Thuận An](DIS) [Bình Dương](CITY) (ADD)  "
      ]
     },
     "execution_count": 3,
     "metadata": {},
     "output_type": "execute_result"
    }
   ],
   "source": [
    "data = pd.concat([data1, data2])\n",
    "data.head()"
   ]
  },
  {
   "cell_type": "code",
   "execution_count": 40,
   "metadata": {},
   "outputs": [
    {
     "name": "stdout",
     "output_type": "stream",
     "text": [
      "ở việt theo của [sơn la](city)\n",
      "['ở', 'việt', 'theo', 'của', '[sơn', 'la]']\n"
     ]
    },
    {
     "data": {
      "text/plain": [
       "'ở việt theo của [sơn la]'"
      ]
     },
     "execution_count": 40,
     "metadata": {},
     "output_type": "execute_result"
    }
   ],
   "source": [
    "import re \n",
    "def text_process(text):\n",
    "    text = text.lower()\n",
    "    text = text.replace('( ', '(')\n",
    "    text = text.replace(' )', ')')\n",
    "    text = text.replace('[ ', '[')\n",
    "    text = text.replace(' ]', ']')\n",
    "\n",
    "    text = re.sub(r'\\[([^\\[]*)\\]\\(num\\)', r'\\1', text)\n",
    "    text = re.sub(r'\\[([^\\[]*)\\]\\(date\\)', r'\\1', text)\n",
    "    text = re.sub(r'\\[([^\\[]*)\\]\\(time\\)', r'\\1', text)\n",
    "    text = re.sub(r'\\[([^\\[]*)\\]\\(lw\\)', r'\\1', text)\n",
    "    # print(text)\n",
    "    text = text.replace('(add)', '')\n",
    "    # print(text)\n",
    "    text = re.sub(r'\\[([^\\[]*)\\]\\s*\\(([^\\(]*)\\)', r' [\\1] ', text)\n",
    "\n",
    "    # print(text)\n",
    "    text = re.sub(r'\\[([^\\(\\[]*)\\(([^\\(]*)\\)\\]', r' [\\1] ', text)\n",
    "    text = re.sub(r'[,\\.\\?\\}/\\!\\n\\(\\)]', ' ', text)\n",
    "    # text = re.sub(r'\\s+', ' ', text)\n",
    "    # return text\n",
    "    new_tokens = []\n",
    "    tokens = text.split()\n",
    "    # print(tokens)\n",
    "    for i in range(len(tokens)):\n",
    "        token = tokens[i]\n",
    "        if token in ['[', ']']:\n",
    "            continue\n",
    "        if token.startswith('['):\n",
    "            has_close = False\n",
    "            j = i \n",
    "            while j < len(tokens) - 1:\n",
    "                if ']' in tokens[j+1]:\n",
    "                    has_close = True\n",
    "                    break\n",
    "                if tokens[j+1].startswith('['):\n",
    "                    break\n",
    "                j += 1\n",
    "            if not has_close:\n",
    "                print(token)\n",
    "                token = token.replace('[', '')\n",
    "        new_tokens.append(token)\n",
    "    return ' '.join(new_tokens)\n",
    "text_process('Ở [việt theo](lw) của [Sơn La](CITY)')"
   ]
  },
  {
   "cell_type": "code",
   "execution_count": null,
   "metadata": {},
   "outputs": [],
   "source": [
    "data['transcript'] = data['transcript'].apply(text_process)\n",
    "# data.to_csv(\"/home4/tuannd/address_handler/data/address_preprocessed.csv\", index=False)"
   ]
  },
  {
   "cell_type": "code",
   "execution_count": 42,
   "metadata": {},
   "outputs": [],
   "source": [
    "data = pd.read_csv(\"/home4/tuannd/address_handler/data/address_preprocessed.csv\")\n",
    "data['transcript'] = data['transcript'].apply(lambda x: x.replace('[', '').replace(']', ''))\n",
    "data.to_csv(\"/home4/tuannd/address_handler/data/address_plain.csv\", index=False)"
   ]
  },
  {
   "cell_type": "code",
   "execution_count": null,
   "metadata": {},
   "outputs": [],
   "source": [
    "import librosa \n",
    "import soundfile as sf\n",
    "from p_tqdm import p_map\n",
    "import os \n",
    "SAVE_DIR = \"/home4/tuannd/vbee-mfa/data/processed/address/wav_processed\"\n",
    "\n",
    "path_result = data['path'].values\n",
    "# resample to 16kHz\n",
    "def resample(path):\n",
    "    audio, _ = librosa.load(path, sr=16000)\n",
    "    save_path = os.path.join(SAVE_DIR, os.path.basename(path))\n",
    "    with open(save_path, 'wb') as f:\n",
    "        sf.write(f, audio, 16000)\n",
    "\n",
    "p_map(resample, path_result, num_cpus=15)"
   ]
  },
  {
   "cell_type": "code",
   "execution_count": 46,
   "metadata": {},
   "outputs": [],
   "source": [
    "data = pd.read_csv(\"/home4/tuannd/address_handler/data/address_preprocessed.csv\")\n",
    "data['is_exist'] = data['path'].apply(lambda x: os.path.exists(x))\n",
    "\n",
    "data = data[data['is_exist']]\n",
    "data.to_csv(\"/home4/tuannd/address_handler/data/address_preprocessed.csv\", index=False)\n",
    "data['transcript'] = data['transcript'].apply(lambda x: x.replace('[', '').replace(']', ''))\n",
    "data.to_csv(\"/home4/tuannd/address_handler/data/address_plain.csv\", index=False)"
   ]
  },
  {
   "cell_type": "code",
   "execution_count": null,
   "metadata": {},
   "outputs": [],
   "source": []
  }
 ],
 "metadata": {
  "kernelspec": {
   "display_name": "asr",
   "language": "python",
   "name": "python3"
  },
  "language_info": {
   "codemirror_mode": {
    "name": "ipython",
    "version": 3
   },
   "file_extension": ".py",
   "mimetype": "text/x-python",
   "name": "python",
   "nbconvert_exporter": "python",
   "pygments_lexer": "ipython3",
   "version": "3.7.0"
  },
  "orig_nbformat": 4
 },
 "nbformat": 4,
 "nbformat_minor": 2
}
